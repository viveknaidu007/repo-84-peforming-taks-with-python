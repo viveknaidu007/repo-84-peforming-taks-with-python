{
 "cells": [
  {
   "cell_type": "code",
   "execution_count": null,
   "metadata": {},
   "outputs": [],
   "source": [
    "\n",
    "\n",
    "''' app.py\n",
    "from flask import Flask, request, jsonify, render_template\n",
    "import sqlite3\n",
    "\n",
    "app = Flask(__name__)\n",
    "\n",
    "# Create SQLite database connection\n",
    "conn = sqlite3.connect('database.db')\n",
    "c = conn.cursor()\n",
    "\n",
    "# Create table if not exists\n",
    "'''\n",
    "#c.execute('''CREATE TABLE IF NOT EXISTS users\n",
    "             (name TEXT, id INTEGER)''')\n",
    "'''\n",
    "\n",
    "@app.route('/adduser', methods=['POST'])\n",
    "def add_user():\n",
    "    data = request.json\n",
    "    name = data.get('name')\n",
    "    id = data.get('id')\n",
    "    c.execute(\"INSERT INTO users (name, id) VALUES (?, ?)\", (name, id))\n",
    "    conn.commit()\n",
    "    return \"User added successfully\", 200\n",
    "\n",
    "@app.route('/getusers', methods=['GET'])\n",
    "def get_users():\n",
    "    c.execute(\"SELECT name FROM users WHERE id > 5\")\n",
    "    result = c.fetchall()\n",
    "    names = [row[0] for row in result]\n",
    "    return jsonify({\"names_with_ids_above_5\": names})\n",
    "\n",
    "@app.route('/')\n",
    "def home():\n",
    "    return render_template('index.html')\n",
    "\n",
    "if __name__ == '__main__':\n",
    "    app.run(debug=True)\n",
    "\n",
    "'''"
   ]
  }
 ],
 "metadata": {
  "language_info": {
   "name": "python"
  }
 },
 "nbformat": 4,
 "nbformat_minor": 2
}
