{
 "cells": [
  {
   "cell_type": "code",
   "execution_count": null,
   "metadata": {},
   "outputs": [],
   "source": [
    "#running sample in this .ipynb\n"
   ]
  },
  {
   "cell_type": "code",
   "execution_count": 19,
   "metadata": {},
   "outputs": [
    {
     "ename": "OperationalError",
     "evalue": "database is locked",
     "output_type": "error",
     "traceback": [
      "\u001b[1;31m---------------------------------------------------------------------------\u001b[0m",
      "\u001b[1;31mOperationalError\u001b[0m                          Traceback (most recent call last)",
      "Cell \u001b[1;32mIn[19], line 8\u001b[0m\n\u001b[0;32m      5\u001b[0m c \u001b[38;5;241m=\u001b[39m conn\u001b[38;5;241m.\u001b[39mcursor()\n\u001b[0;32m      7\u001b[0m \u001b[38;5;66;03m# Create table if not exists\u001b[39;00m\n\u001b[1;32m----> 8\u001b[0m \u001b[43mc\u001b[49m\u001b[38;5;241;43m.\u001b[39;49m\u001b[43mexecute\u001b[49m\u001b[43m(\u001b[49m\u001b[38;5;124;43m'''\u001b[39;49m\u001b[38;5;124;43mCREATE TABLE IF NOT EXISTS users\u001b[39;49m\n\u001b[0;32m      9\u001b[0m \u001b[38;5;124;43m             (name TEXT, id INTEGER)\u001b[39;49m\u001b[38;5;124;43m'''\u001b[39;49m\u001b[43m)\u001b[49m\n\u001b[0;32m     11\u001b[0m \u001b[38;5;28;01mdef\u001b[39;00m \u001b[38;5;21madd_user\u001b[39m(name, \u001b[38;5;28mid\u001b[39m):\n\u001b[0;32m     12\u001b[0m     c\u001b[38;5;241m.\u001b[39mexecute(\u001b[38;5;124m\"\u001b[39m\u001b[38;5;124mINSERT INTO users (name, id) VALUES (?, ?)\u001b[39m\u001b[38;5;124m\"\u001b[39m, (name, \u001b[38;5;28mid\u001b[39m))\n",
      "\u001b[1;31mOperationalError\u001b[0m: database is locked"
     ]
    }
   ],
   "source": [
    "import sqlite3\n",
    "\n",
    "# Create SQLite database connection\n",
    "conn = sqlite3.connect('database.db')\n",
    "c = conn.cursor()\n",
    "\n",
    "# Create table if not exists\n",
    "c.execute('''CREATE TABLE IF NOT EXISTS users\n",
    "             (name TEXT, id INTEGER)''')\n",
    "\n",
    "def add_user(name, id):\n",
    "    c.execute(\"INSERT INTO users (name, id) VALUES (?, ?)\", (name, id))\n",
    "    conn.commit()\n",
    "    print(\"User added successfully\")\n",
    "\n",
    "def get_users_above_id(limit):\n",
    "    c.execute(\"SELECT name FROM users WHERE id > ?\", (limit,))\n",
    "    result = c.fetchall()\n",
    "    names = [row[0] for row in result]\n",
    "    return {\"names_with_ids_above_5\": names}\n",
    "\n",
    "# Test add_user function\n",
    "add_user(\"xyz\", 100)\n",
    "add_user(\"abc\", 10)\n",
    "add_user(\"def\", 1)\n",
    "add_user(\"abc\", 1)\n",
    "add_user(\"wq\", 10)\n",
    "\n",
    "# Test get_users_above_id function\n",
    "output = get_users_above_id(5)\n",
    "print(output)\n"
   ]
  },
  {
   "cell_type": "code",
   "execution_count": null,
   "metadata": {},
   "outputs": [],
   "source": [
    "Input1: {“name”: “xyz”, “id”:100}\n",
    "Input2: {“name”: “abc”, “id”:10}\n",
    "Input3: {“name”: “def”, “id”:1}\n",
    "Input4: {“name”: “abc”, “id”:1}\n",
    "Input5: {“name”: “wq”, “id”:10}\n"
   ]
  },
  {
   "cell_type": "code",
   "execution_count": 1,
   "metadata": {},
   "outputs": [
    {
     "ename": "ValueError",
     "evalue": "invalid literal for int() with base 10: ''",
     "output_type": "error",
     "traceback": [
      "\u001b[1;31m---------------------------------------------------------------------------\u001b[0m",
      "\u001b[1;31mValueError\u001b[0m                                Traceback (most recent call last)",
      "Cell \u001b[1;32mIn[1], line 25\u001b[0m\n\u001b[0;32m     22\u001b[0m     \u001b[38;5;28;01mreturn\u001b[39;00m {\u001b[38;5;124m\"\u001b[39m\u001b[38;5;124mnames_with_ids_above_5\u001b[39m\u001b[38;5;124m\"\u001b[39m: names}\n\u001b[0;32m     24\u001b[0m \u001b[38;5;66;03m# Test add_user function\u001b[39;00m\n\u001b[1;32m---> 25\u001b[0m \u001b[43madd_user\u001b[49m\u001b[43m(\u001b[49m\u001b[43m)\u001b[49m\n\u001b[0;32m     26\u001b[0m add_user()\n\u001b[0;32m     27\u001b[0m add_user()\n",
      "Cell \u001b[1;32mIn[1], line 13\u001b[0m, in \u001b[0;36madd_user\u001b[1;34m()\u001b[0m\n\u001b[0;32m     11\u001b[0m \u001b[38;5;28;01mdef\u001b[39;00m \u001b[38;5;21madd_user\u001b[39m():\n\u001b[0;32m     12\u001b[0m     name \u001b[38;5;241m=\u001b[39m \u001b[38;5;28minput\u001b[39m(\u001b[38;5;124m\"\u001b[39m\u001b[38;5;124mEnter user name: \u001b[39m\u001b[38;5;124m\"\u001b[39m)\n\u001b[1;32m---> 13\u001b[0m     \u001b[38;5;28mid\u001b[39m \u001b[38;5;241m=\u001b[39m \u001b[38;5;28;43mint\u001b[39;49m\u001b[43m(\u001b[49m\u001b[38;5;28;43minput\u001b[39;49m\u001b[43m(\u001b[49m\u001b[38;5;124;43m\"\u001b[39;49m\u001b[38;5;124;43mEnter user ID: \u001b[39;49m\u001b[38;5;124;43m\"\u001b[39;49m\u001b[43m)\u001b[49m\u001b[43m)\u001b[49m\n\u001b[0;32m     14\u001b[0m     c\u001b[38;5;241m.\u001b[39mexecute(\u001b[38;5;124m\"\u001b[39m\u001b[38;5;124mINSERT INTO users (name, id) VALUES (?, ?)\u001b[39m\u001b[38;5;124m\"\u001b[39m, (name, \u001b[38;5;28mid\u001b[39m))\n\u001b[0;32m     15\u001b[0m     conn\u001b[38;5;241m.\u001b[39mcommit()\n",
      "\u001b[1;31mValueError\u001b[0m: invalid literal for int() with base 10: ''"
     ]
    }
   ],
   "source": [
    "import sqlite3\n",
    "\n",
    "# Create SQLite database connection\n",
    "conn = sqlite3.connect('database.db')\n",
    "c = conn.cursor()\n",
    "\n",
    "# Create table if not exists\n",
    "c.execute('''CREATE TABLE IF NOT EXISTS users\n",
    "             (name TEXT, id INTEGER)''')\n",
    "\n",
    "def add_user():\n",
    "    name = input(\"Enter user name: \")\n",
    "    id = int(input(\"Enter user ID: \"))\n",
    "    c.execute(\"INSERT INTO users (name, id) VALUES (?, ?)\", (name, id))\n",
    "    conn.commit()\n",
    "    print(\"User added successfully\")\n",
    "\n",
    "def get_users_above_id(limit):\n",
    "    c.execute(\"SELECT name FROM users WHERE id > ?\", (limit,))\n",
    "    result = c.fetchall()\n",
    "    names = [row[0] for row in result]\n",
    "    return {\"names_with_ids_above_5\": names}\n",
    "\n",
    "# Test add_user function\n",
    "add_user()\n",
    "add_user()\n",
    "add_user()\n",
    "add_user()\n",
    "add_user()\n",
    "\n",
    "# Test get_users_above_id function\n",
    "limit = int(input(\"Enter the ID limit: \"))\n",
    "output = get_users_above_id(limit)\n",
    "print(output)\n"
   ]
  },
  {
   "cell_type": "code",
   "execution_count": 7,
   "metadata": {},
   "outputs": [
    {
     "data": {
      "text/plain": [
       "[('xyz', 100),\n",
       " ('abc', 10),\n",
       " ('def', 1),\n",
       " ('abc', 1),\n",
       " ('wq', 10),\n",
       " ('vivek', 1),\n",
       " ('vivek', 4),\n",
       " ('teja', 10),\n",
       " ('honey', 30),\n",
       " ('satish', 30),\n",
       " ('bannu', 50),\n",
       " ('vivek', 4),\n",
       " ('teja', 10),\n",
       " ('honey', 20),\n",
       " ('vinay', 60),\n",
       " ('tiv', 100)]"
      ]
     },
     "execution_count": 7,
     "metadata": {},
     "output_type": "execute_result"
    }
   ],
   "source": [
    "import sqlite3\n",
    "\n",
    "# Create SQLite database connection\n",
    "conn = sqlite3.connect('database.db' ,)\n",
    "c = conn.cursor()\n",
    "\n",
    "c.execute(\"select * from users\")\n",
    "c.fetchall()"
   ]
  },
  {
   "cell_type": "code",
   "execution_count": 13,
   "metadata": {},
   "outputs": [
    {
     "ename": "OperationalError",
     "evalue": "near \"*\": syntax error",
     "output_type": "error",
     "traceback": [
      "\u001b[1;31m---------------------------------------------------------------------------\u001b[0m",
      "\u001b[1;31mOperationalError\u001b[0m                          Traceback (most recent call last)",
      "Cell \u001b[1;32mIn[13], line 6\u001b[0m\n\u001b[0;32m      3\u001b[0m conn \u001b[38;5;241m=\u001b[39m sqlite3\u001b[38;5;241m.\u001b[39mconnect(\u001b[38;5;124m'\u001b[39m\u001b[38;5;124mdatabase.db\u001b[39m\u001b[38;5;124m'\u001b[39m ,)\n\u001b[0;32m      4\u001b[0m c \u001b[38;5;241m=\u001b[39m conn\u001b[38;5;241m.\u001b[39mcursor()\n\u001b[1;32m----> 6\u001b[0m \u001b[43mc\u001b[49m\u001b[38;5;241;43m.\u001b[39;49m\u001b[43mexecute\u001b[49m\u001b[43m(\u001b[49m\u001b[38;5;124;43m\"\u001b[39;49m\u001b[38;5;124;43mdelete * from users\u001b[39;49m\u001b[38;5;124;43m\"\u001b[39;49m\u001b[43m)\u001b[49m\n\u001b[0;32m      7\u001b[0m c\u001b[38;5;241m.\u001b[39mfetchall()\n",
      "\u001b[1;31mOperationalError\u001b[0m: near \"*\": syntax error"
     ]
    }
   ],
   "source": [
    "#now deleteing all from database\n",
    "# Create SQLite database connection\n",
    "conn = sqlite3.connect('database.db' ,)\n",
    "c = conn.cursor()\n",
    "\n",
    "c.execute(\"delete * from users\")\n",
    "c.fetchall()"
   ]
  },
  {
   "cell_type": "code",
   "execution_count": 14,
   "metadata": {},
   "outputs": [
    {
     "ename": "OperationalError",
     "evalue": "database is locked",
     "output_type": "error",
     "traceback": [
      "\u001b[1;31m---------------------------------------------------------------------------\u001b[0m",
      "\u001b[1;31mOperationalError\u001b[0m                          Traceback (most recent call last)",
      "Cell \u001b[1;32mIn[14], line 11\u001b[0m\n\u001b[0;32m      8\u001b[0m c\u001b[38;5;241m.\u001b[39mexecute(\u001b[38;5;124m\"\u001b[39m\u001b[38;5;124mDELETE FROM users\u001b[39m\u001b[38;5;124m\"\u001b[39m)\n\u001b[0;32m     10\u001b[0m \u001b[38;5;66;03m# Commit the transaction\u001b[39;00m\n\u001b[1;32m---> 11\u001b[0m \u001b[43mconn\u001b[49m\u001b[38;5;241;43m.\u001b[39;49m\u001b[43mcommit\u001b[49m\u001b[43m(\u001b[49m\u001b[43m)\u001b[49m\n\u001b[0;32m     13\u001b[0m \u001b[38;5;66;03m# Close the connection\u001b[39;00m\n\u001b[0;32m     14\u001b[0m conn\u001b[38;5;241m.\u001b[39mclose()\n",
      "\u001b[1;31mOperationalError\u001b[0m: database is locked"
     ]
    }
   ],
   "source": [
    "import sqlite3\n",
    "\n",
    "# Create SQLite database connection\n",
    "conn = sqlite3.connect('database.db')\n",
    "c = conn.cursor()\n",
    "\n",
    "# Delete all rows from the 'users' table\n",
    "c.execute(\"DELETE FROM users\")\n",
    "\n",
    "# Commit the transaction\n",
    "conn.commit()\n",
    "\n",
    "# Close the connection\n",
    "conn.close()"
   ]
  },
  {
   "cell_type": "code",
   "execution_count": 18,
   "metadata": {},
   "outputs": [
    {
     "ename": "OperationalError",
     "evalue": "database is locked",
     "output_type": "error",
     "traceback": [
      "\u001b[1;31m---------------------------------------------------------------------------\u001b[0m",
      "\u001b[1;31mOperationalError\u001b[0m                          Traceback (most recent call last)",
      "Cell \u001b[1;32mIn[18], line 7\u001b[0m\n\u001b[0;32m      4\u001b[0m conn \u001b[38;5;241m=\u001b[39m sqlite3\u001b[38;5;241m.\u001b[39mconnect(\u001b[38;5;124m'\u001b[39m\u001b[38;5;124mdatabase.db\u001b[39m\u001b[38;5;124m'\u001b[39m ,)\n\u001b[0;32m      5\u001b[0m c \u001b[38;5;241m=\u001b[39m conn\u001b[38;5;241m.\u001b[39mcursor()\n\u001b[1;32m----> 7\u001b[0m \u001b[43mc\u001b[49m\u001b[38;5;241;43m.\u001b[39;49m\u001b[43mexecute\u001b[49m\u001b[43m(\u001b[49m\u001b[38;5;124;43m\"\u001b[39;49m\u001b[38;5;124;43mselect * from users\u001b[39;49m\u001b[38;5;124;43m\"\u001b[39;49m\u001b[43m)\u001b[49m\n\u001b[0;32m      8\u001b[0m c\u001b[38;5;241m.\u001b[39mfetchall()\n",
      "\u001b[1;31mOperationalError\u001b[0m: database is locked"
     ]
    }
   ],
   "source": [
    "import sqlite3\n",
    "\n",
    "# Create SQLite database connection\n",
    "conn = sqlite3.connect('database.db' ,)\n",
    "c = conn.cursor()\n",
    "\n",
    "c.execute(\"select * from users\")\n",
    "c.fetchall()"
   ]
  },
  {
   "cell_type": "code",
   "execution_count": 16,
   "metadata": {},
   "outputs": [
    {
     "ename": "OperationalError",
     "evalue": "database is locked",
     "output_type": "error",
     "traceback": [
      "\u001b[1;31m---------------------------------------------------------------------------\u001b[0m",
      "\u001b[1;31mOperationalError\u001b[0m                          Traceback (most recent call last)",
      "Cell \u001b[1;32mIn[16], line 11\u001b[0m\n\u001b[0;32m      8\u001b[0m c\u001b[38;5;241m.\u001b[39mexecute(\u001b[38;5;124m\"\u001b[39m\u001b[38;5;124mDELETE FROM users\u001b[39m\u001b[38;5;124m\"\u001b[39m)\n\u001b[0;32m     10\u001b[0m \u001b[38;5;66;03m# Commit the transaction\u001b[39;00m\n\u001b[1;32m---> 11\u001b[0m \u001b[43mconn\u001b[49m\u001b[38;5;241;43m.\u001b[39;49m\u001b[43mcommit\u001b[49m\u001b[43m(\u001b[49m\u001b[43m)\u001b[49m\n\u001b[0;32m     13\u001b[0m \u001b[38;5;66;03m# Close the connection\u001b[39;00m\n\u001b[0;32m     14\u001b[0m conn\u001b[38;5;241m.\u001b[39mclose()\n",
      "\u001b[1;31mOperationalError\u001b[0m: database is locked"
     ]
    }
   ],
   "source": [
    "import sqlite3\n",
    "\n",
    "# Create SQLite database connection\n",
    "conn = sqlite3.connect('database.db')\n",
    "c = conn.cursor()\n",
    "\n",
    "# Execute the DELETE statement to delete all rows from the 'users' table\n",
    "c.execute(\"DELETE FROM users\")\n",
    "\n",
    "# Commit the transaction\n",
    "conn.commit()\n",
    "\n",
    "# Close the connection\n",
    "conn.close()\n"
   ]
  }
 ],
 "metadata": {
  "kernelspec": {
   "display_name": "ai",
   "language": "python",
   "name": "python3"
  },
  "language_info": {
   "codemirror_mode": {
    "name": "ipython",
    "version": 3
   },
   "file_extension": ".py",
   "mimetype": "text/x-python",
   "name": "python",
   "nbconvert_exporter": "python",
   "pygments_lexer": "ipython3",
   "version": "3.10.14"
  }
 },
 "nbformat": 4,
 "nbformat_minor": 2
}
